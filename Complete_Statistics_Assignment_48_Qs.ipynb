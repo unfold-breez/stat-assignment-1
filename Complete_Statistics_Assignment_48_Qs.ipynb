{
 "cells": [
  {
   "cell_type": "markdown",
   "metadata": {},
   "source": [
    "### 1. What is statistics, and why is it important?\n",
    "\n",
    "Statistics is the study of collecting, analyzing, interpreting, presenting, and organizing data. It is essential for making informed decisions."
   ]
  },
  {
   "cell_type": "markdown",
   "metadata": {},
   "source": [
    "### 2. What are the two main types of statistics?\n",
    "\n",
    "Descriptive statistics and inferential statistics."
   ]
  },
  {
   "cell_type": "markdown",
   "metadata": {},
   "source": [
    "### 3. What are descriptive statistics?\n",
    "\n",
    "They summarize and describe features of a dataset (e.g., mean, median, mode)."
   ]
  },
  {
   "cell_type": "markdown",
   "metadata": {},
   "source": [
    "### 4. What is inferential statistics?\n",
    "\n",
    "They make predictions or generalizations about a population based on a sample."
   ]
  },
  {
   "cell_type": "markdown",
   "metadata": {},
   "source": [
    "### 5. What is sampling in statistics?\n",
    "\n",
    "Sampling is selecting a subset of a population for analysis."
   ]
  },
  {
   "cell_type": "markdown",
   "metadata": {},
   "source": [
    "### 6. What are the different types of sampling methods?\n",
    "\n",
    "Simple random, stratified, systematic, cluster, convenience, and quota sampling."
   ]
  },
  {
   "cell_type": "markdown",
   "metadata": {},
   "source": [
    "### 7. What is the difference between random and non-random sampling?\n",
    "\n",
    "Random sampling gives all elements an equal chance; non-random does not."
   ]
  },
  {
   "cell_type": "markdown",
   "metadata": {},
   "source": [
    "### 8. Define and give examples of qualitative and quantitative data\n",
    "\n",
    "Qualitative: non-numeric (e.g., color), Quantitative: numeric (e.g., height)."
   ]
  },
  {
   "cell_type": "markdown",
   "metadata": {},
   "source": [
    "### 9. What are the different types of data in statistics?\n",
    "\n",
    "Nominal, ordinal, interval, and ratio."
   ]
  },
  {
   "cell_type": "markdown",
   "metadata": {},
   "source": [
    "### 10. Explain nominal, ordinal, interval, and ratio levels of measurement\n",
    "\n",
    "Nominal: categories, Ordinal: order, Interval: numeric no true zero, Ratio: numeric with true zero."
   ]
  },
  {
   "cell_type": "markdown",
   "metadata": {},
   "source": [
    "### 11. What is the measure of central tendency?\n",
    "\n",
    "A single value that describes the center of a dataset (mean, median, mode)."
   ]
  },
  {
   "cell_type": "markdown",
   "metadata": {},
   "source": [
    "### 12. Define mean, median, and mode\n",
    "\n",
    "Mean: average, Median: middle value, Mode: most frequent value."
   ]
  },
  {
   "cell_type": "markdown",
   "metadata": {},
   "source": [
    "### 13. What is the significance of the measure of central tendency?\n",
    "\n",
    "Helps summarize data with a single representative value."
   ]
  },
  {
   "cell_type": "markdown",
   "metadata": {},
   "source": [
    "### 14. What is variance, and how is it calculated?\n",
    "\n",
    "Variance measures spread; calculated as the average of squared differences from the mean."
   ]
  },
  {
   "cell_type": "markdown",
   "metadata": {},
   "source": [
    "### 15. What is standard deviation, and why is it important?\n",
    "\n",
    "It shows how much data deviates from the mean."
   ]
  },
  {
   "cell_type": "markdown",
   "metadata": {},
   "source": [
    "### 16. Define and explain the term range in statistics\n",
    "\n",
    "Range = max - min; shows data spread."
   ]
  },
  {
   "cell_type": "markdown",
   "metadata": {},
   "source": [
    "### 17. What is the difference between variance and standard deviation?\n",
    "\n",
    "Standard deviation is the square root of variance."
   ]
  },
  {
   "cell_type": "markdown",
   "metadata": {},
   "source": [
    "### 18. What is skewness in a dataset?\n",
    "\n",
    "Skewness describes asymmetry of a distribution."
   ]
  },
  {
   "cell_type": "markdown",
   "metadata": {},
   "source": [
    "### 19. What does it mean if a dataset is positively or negatively skewed?\n",
    "\n",
    "Positive skew: right tail; Negative skew: left tail."
   ]
  },
  {
   "cell_type": "markdown",
   "metadata": {},
   "source": [
    "### 20. Define and explain kurtosis\n",
    "\n",
    "Kurtosis measures tail heaviness or lightness of data distribution."
   ]
  },
  {
   "cell_type": "markdown",
   "metadata": {},
   "source": [
    "### 21. What is the purpose of covariance?\n",
    "\n",
    "Shows the directional relationship between two variables."
   ]
  },
  {
   "cell_type": "markdown",
   "metadata": {},
   "source": [
    "### 22. What does correlation measure in statistics?\n",
    "\n",
    "Measures the strength and direction of a relationship between two variables."
   ]
  },
  {
   "cell_type": "markdown",
   "metadata": {},
   "source": [
    "### 23. What is the difference between covariance and correlation?\n",
    "\n",
    "Correlation standardizes covariance between -1 and 1."
   ]
  },
  {
   "cell_type": "markdown",
   "metadata": {},
   "source": [
    "### 24. What are some real-world applications of statistics?\n",
    "\n",
    "Medicine, business, education, sports, government, etc."
   ]
  },
  {
   "cell_type": "markdown",
   "metadata": {},
   "source": [
    "# Statistics Basics - Assignment Solutions\n",
    "This notebook contains explanations and Python implementations for key statistical concepts."
   ]
  },
  {
   "cell_type": "markdown",
   "metadata": {},
   "source": [
    "## 1. Mean, Median, and Mode"
   ]
  },
  {
   "cell_type": "code",
   "execution_count": null,
   "metadata": {},
   "outputs": [],
   "source": [
    "import statistics\n",
    "\n",
    "data = [2, 4, 4, 6, 8, 10]\n",
    "mean = statistics.mean(data)\n",
    "median = statistics.median(data)\n",
    "mode = statistics.mode(data)\n",
    "\n",
    "print(\"Mean:\", mean)\n",
    "print(\"Median:\", median)\n",
    "print(\"Mode:\", mode)"
   ]
  },
  {
   "cell_type": "markdown",
   "metadata": {},
   "source": [
    "## 2. Variance and Standard Deviation"
   ]
  },
  {
   "cell_type": "code",
   "execution_count": null,
   "metadata": {},
   "outputs": [],
   "source": [
    "data = [4, 5, 8, 6, 9, 10]\n",
    "\n",
    "variance = statistics.variance(data)\n",
    "std_dev = statistics.stdev(data)\n",
    "\n",
    "print(\"Variance:\", variance)\n",
    "print(\"Standard Deviation:\", std_dev)"
   ]
  },
  {
   "cell_type": "markdown",
   "metadata": {},
   "source": [
    "## 3. Dataset Classification"
   ]
  },
  {
   "cell_type": "code",
   "execution_count": null,
   "metadata": {},
   "outputs": [],
   "source": [
    "dataset = {\n",
    "    \"Nominal\": [\"Red\", \"Blue\", \"Green\"],\n",
    "    \"Ordinal\": [\"Poor\", \"Average\", \"Good\", \"Excellent\"],\n",
    "    \"Interval\": [10, 20, 30, 40],\n",
    "    \"Ratio\": [150, 160, 170]\n",
    "}\n",
    "print(dataset)"
   ]
  },
  {
   "cell_type": "markdown",
   "metadata": {},
   "source": [
    "## 4. Random and Stratified Sampling"
   ]
  },
  {
   "cell_type": "code",
   "execution_count": null,
   "metadata": {},
   "outputs": [],
   "source": [
    "import random\n",
    "import pandas as pd\n",
    "\n",
    "data = list(range(1, 101))\n",
    "random_sample = random.sample(data, 10)\n",
    "print(\"Random Sample:\", random_sample)\n",
    "\n",
    "df = pd.DataFrame({\n",
    "    'Gender': ['Male'] * 50 + ['Female'] * 50,\n",
    "    'Score': list(range(1, 101))\n",
    "})\n",
    "stratified_sample = df.groupby('Gender', group_keys=False).apply(lambda x: x.sample(5))\n",
    "print(stratified_sample)"
   ]
  },
  {
   "cell_type": "markdown",
   "metadata": {},
   "source": [
    "## 5. Range Function"
   ]
  },
  {
   "cell_type": "code",
   "execution_count": null,
   "metadata": {},
   "outputs": [],
   "source": [
    "def calculate_range(data):\n",
    "    return max(data) - min(data)\n",
    "\n",
    "print(\"Range:\", calculate_range([3, 6, 9, 12]))"
   ]
  },
  {
   "cell_type": "markdown",
   "metadata": {},
   "source": [
    "## 6. Histogram and Skewness"
   ]
  },
  {
   "cell_type": "code",
   "execution_count": null,
   "metadata": {},
   "outputs": [],
   "source": [
    "import matplotlib.pyplot as plt\n",
    "\n",
    "data = [2, 3, 3, 3, 4, 5, 6, 18]\n",
    "plt.hist(data, bins=6)\n",
    "plt.title(\"Histogram\")\n",
    "plt.show()"
   ]
  },
  {
   "cell_type": "markdown",
   "metadata": {},
   "source": [
    "## 7. Skewness and Kurtosis"
   ]
  },
  {
   "cell_type": "code",
   "execution_count": null,
   "metadata": {},
   "outputs": [],
   "source": [
    "from scipy.stats import skew, kurtosis\n",
    "\n",
    "data = [2, 3, 3, 3, 4, 5, 6, 18]\n",
    "print(\"Skewness:\", skew(data))\n",
    "print(\"Kurtosis:\", kurtosis(data))"
   ]
  },
  {
   "cell_type": "markdown",
   "metadata": {},
   "source": [
    "## 8. Positive and Negative Skewness"
   ]
  },
  {
   "cell_type": "code",
   "execution_count": null,
   "metadata": {},
   "outputs": [],
   "source": [
    "import numpy as np\n",
    "\n",
    "pos_skew = np.random.exponential(scale=2, size=1000)\n",
    "plt.hist(pos_skew, bins=30)\n",
    "plt.title(\"Positive Skew\")\n",
    "plt.show()\n",
    "\n",
    "neg_skew = -np.random.exponential(scale=2, size=1000)\n",
    "plt.hist(neg_skew, bins=30)\n",
    "plt.title(\"Negative Skew\")\n",
    "plt.show()"
   ]
  },
  {
   "cell_type": "markdown",
   "metadata": {},
   "source": [
    "## 9. Covariance"
   ]
  },
  {
   "cell_type": "code",
   "execution_count": null,
   "metadata": {},
   "outputs": [],
   "source": [
    "x = [1, 2, 3, 4, 5]\n",
    "y = [5, 4, 6, 8, 10]\n",
    "cov_matrix = np.cov(x, y)\n",
    "print(\"Covariance matrix:\\n\", cov_matrix)"
   ]
  },
  {
   "cell_type": "markdown",
   "metadata": {},
   "source": [
    "## 10. Correlation Coefficient"
   ]
  },
  {
   "cell_type": "code",
   "execution_count": null,
   "metadata": {},
   "outputs": [],
   "source": [
    "x = [1, 2, 3, 4, 5]\n",
    "y = [2, 4, 6, 8, 10]\n",
    "corr = np.corrcoef(x, y)\n",
    "print(\"Correlation coefficient matrix:\\n\", corr)"
   ]
  },
  {
   "cell_type": "markdown",
   "metadata": {},
   "source": [
    "## 11. Scatter Plot"
   ]
  },
  {
   "cell_type": "code",
   "execution_count": null,
   "metadata": {},
   "outputs": [],
   "source": [
    "x = [1, 2, 3, 4, 5]\n",
    "y = [3, 6, 9, 12, 15]\n",
    "\n",
    "plt.scatter(x, y)\n",
    "plt.title(\"Scatter Plot\")\n",
    "plt.xlabel(\"X\")\n",
    "plt.ylabel(\"Y\")\n",
    "plt.show()"
   ]
  },
  {
   "cell_type": "markdown",
   "metadata": {},
   "source": [
    "## 12. Random vs Systematic Sampling"
   ]
  },
  {
   "cell_type": "code",
   "execution_count": null,
   "metadata": {},
   "outputs": [],
   "source": [
    "simple_random = random.sample(range(1, 101), 10)\n",
    "print(\"Simple Random Sampling:\", simple_random)\n",
    "\n",
    "population = list(range(1, 101))\n",
    "k = 10\n",
    "systematic_sample = [population[i] for i in range(0, len(population), k)]\n",
    "print(\"Systematic Sampling:\", systematic_sample)"
   ]
  },
  {
   "cell_type": "markdown",
   "metadata": {},
   "source": [
    "## 13. Grouped Data - Mean"
   ]
  },
  {
   "cell_type": "code",
   "execution_count": null,
   "metadata": {},
   "outputs": [],
   "source": [
    "data = {'Marks': [10, 20, 30, 40], 'Frequency': [1, 3, 4, 2]}\n",
    "df = pd.DataFrame(data)\n",
    "mean = sum(df['Marks'] * df['Frequency']) / sum(df['Frequency'])\n",
    "print(\"Grouped Mean:\", mean)"
   ]
  },
  {
   "cell_type": "markdown",
   "metadata": {},
   "source": [
    "## 14. Simulate Data and Central Tendency"
   ]
  },
  {
   "cell_type": "code",
   "execution_count": null,
   "metadata": {},
   "outputs": [],
   "source": [
    "data = np.random.normal(loc=50, scale=10, size=100)\n",
    "print(\"Mean:\", statistics.mean(data))\n",
    "print(\"Standard Deviation:\", statistics.stdev(data))"
   ]
  },
  {
   "cell_type": "markdown",
   "metadata": {},
   "source": [
    "## Practical Section (Continued) - Last 10 Questions"
   ]
  },
  {
   "cell_type": "markdown",
   "metadata": {},
   "source": [
    "### 15. Use NumPy or pandas to summarize a dataset’s descriptive statistics"
   ]
  },
  {
   "cell_type": "code",
   "execution_count": null,
   "metadata": {},
   "outputs": [],
   "source": [
    "import pandas as pd\n",
    "import numpy as np\n",
    "\n",
    "data = np.random.randint(10, 100, 20)\n",
    "df = pd.DataFrame(data, columns=['Scores'])\n",
    "print(df.describe())"
   ]
  },
  {
   "cell_type": "markdown",
   "metadata": {},
   "source": [
    "### 16. Plot a boxplot to understand the spread and identify outliers"
   ]
  },
  {
   "cell_type": "code",
   "execution_count": null,
   "metadata": {},
   "outputs": [],
   "source": [
    "import matplotlib.pyplot as plt\n",
    "\n",
    "plt.boxplot(data)\n",
    "plt.title(\"Boxplot of Scores\")\n",
    "plt.show()"
   ]
  },
  {
   "cell_type": "markdown",
   "metadata": {},
   "source": [
    "### 17. Calculate the interquartile range (IQR) of a dataset"
   ]
  },
  {
   "cell_type": "code",
   "execution_count": null,
   "metadata": {},
   "outputs": [],
   "source": [
    "Q1 = np.percentile(data, 25)\n",
    "Q3 = np.percentile(data, 75)\n",
    "IQR = Q3 - Q1\n",
    "print(\"Interquartile Range (IQR):\", IQR)"
   ]
  },
  {
   "cell_type": "markdown",
   "metadata": {},
   "source": [
    "### 18. Implement Z-score normalization and explain its significance"
   ]
  },
  {
   "cell_type": "code",
   "execution_count": null,
   "metadata": {},
   "outputs": [],
   "source": [
    "z_scores = (data - np.mean(data)) / np.std(data)\n",
    "print(\"Z-scores:\", z_scores)"
   ]
  },
  {
   "cell_type": "markdown",
   "metadata": {},
   "source": [
    "### 19. Compare two datasets using their standard deviations"
   ]
  },
  {
   "cell_type": "code",
   "execution_count": null,
   "metadata": {},
   "outputs": [],
   "source": [
    "data2 = np.random.randint(20, 80, 20)\n",
    "std1 = np.std(data)\n",
    "std2 = np.std(data2)\n",
    "print(\"Standard Deviation of Dataset 1:\", std1)\n",
    "print(\"Standard Deviation of Dataset 2:\", std2)"
   ]
  },
  {
   "cell_type": "markdown",
   "metadata": {},
   "source": [
    "### 20. Visualize covariance using a heatmap"
   ]
  },
  {
   "cell_type": "code",
   "execution_count": null,
   "metadata": {},
   "outputs": [],
   "source": [
    "import seaborn as sns\n",
    "\n",
    "df2 = pd.DataFrame({'A': data, 'B': data2})\n",
    "sns.heatmap(df2.cov(), annot=True, cmap=\"coolwarm\")\n",
    "plt.title(\"Covariance Heatmap\")\n",
    "plt.show()"
   ]
  },
  {
   "cell_type": "markdown",
   "metadata": {},
   "source": [
    "### 21. Use seaborn to create a correlation matrix for a dataset"
   ]
  },
  {
   "cell_type": "code",
   "execution_count": null,
   "metadata": {},
   "outputs": [],
   "source": [
    "sns.heatmap(df2.corr(), annot=True, cmap=\"YlGnBu\")\n",
    "plt.title(\"Correlation Matrix\")\n",
    "plt.show()"
   ]
  },
  {
   "cell_type": "markdown",
   "metadata": {},
   "source": [
    "### 22. Generate a dataset and implement both variance and standard deviation computations"
   ]
  },
  {
   "cell_type": "code",
   "execution_count": null,
   "metadata": {},
   "outputs": [],
   "source": [
    "sample_data = np.random.randint(1, 100, 50)\n",
    "print(\"Variance:\", np.var(sample_data))\n",
    "print(\"Standard Deviation:\", np.std(sample_data))"
   ]
  },
  {
   "cell_type": "markdown",
   "metadata": {},
   "source": [
    "### 23. Visualize skewness and kurtosis using Python libraries like matplotlib or seaborn"
   ]
  },
  {
   "cell_type": "code",
   "execution_count": null,
   "metadata": {},
   "outputs": [],
   "source": [
    "sns.histplot(sample_data, kde=True)\n",
    "plt.title(\"Histogram with KDE\")\n",
    "plt.show()\n",
    "\n",
    "from scipy.stats import skew, kurtosis\n",
    "print(\"Skewness:\", skew(sample_data))\n",
    "print(\"Kurtosis:\", kurtosis(sample_data))"
   ]
  },
  {
   "cell_type": "markdown",
   "metadata": {},
   "source": [
    "### 24. Implement the Pearson and Spearman correlation coefficients for a dataset"
   ]
  },
  {
   "cell_type": "code",
   "execution_count": null,
   "metadata": {},
   "outputs": [],
   "source": [
    "from scipy.stats import pearsonr, spearmanr\n",
    "\n",
    "pearson_corr, _ = pearsonr(data, data2)\n",
    "spearman_corr, _ = spearmanr(data, data2)\n",
    "print(\"Pearson Correlation:\", pearson_corr)\n",
    "print(\"Spearman Correlation:\", spearman_corr)"
   ]
  }
 ],
 "metadata": {
  "kernelspec": {
   "display_name": "Python [conda env:base] *",
   "language": "python",
   "name": "conda-base-py"
  },
  "language_info": {
   "codemirror_mode": {
    "name": "ipython",
    "version": 3
   },
   "file_extension": ".py",
   "mimetype": "text/x-python",
   "name": "python",
   "nbconvert_exporter": "python",
   "pygments_lexer": "ipython3",
   "version": "3.12.7"
  }
 },
 "nbformat": 4,
 "nbformat_minor": 4
}
